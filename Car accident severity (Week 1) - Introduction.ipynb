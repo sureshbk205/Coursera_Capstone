{
    "cells": [
        {
            "cell_type": "markdown",
            "metadata": {},
            "source": "# Introduction :\n\nCar accidents are issues found across the globe to be severe and dangerous. Accidents might sometimes due to natural reasons or to our negligence or other reasons. \nA Road Traffic Accident according to Garber (2010) is a random event involving a road user that results into property damage, death or injury. \nRoad Traffic Accidents(RTA) have become not just a National but a Global issue. \nIt is on records that Road traffic accidents cause an estimated 13 million deaths and 20-50 million disabilities worldwide annually with 85% of injury related deaths occurring \nin developing countries. According to WHO (2007), RTA injuries accounted for 23% of all injury deaths worldwide. This project discusses the severity of car accidents citing City of Seattle.\n\n\n# Business Problems:\n    \n1. Determining the causes of Road Traffic accidents\n2. Prediction of Road Traffic accidents\n3. Determining the effects and severity of Road Traffic Accidents\n\nThis project is useful to the Road Safety Corporation and stakeholders interested in the welfare and safety of road users.\n\n# Data Section:\n    \nThe dataset used in this project directly comes from the Seattle Data on Transportation. It contains data from car crashes from 2004 till date. \nThe dataset comes with a pdf file containing a clear definition for each of the available features. The data for this project is \nsecondarily sourced from https://data.seattle.gov/browse?q=vehicle+accidents , https://www.seattle.gov/Documents/Departments/SDOT/GIS/Collisions_OD.pdf\n\n        \nWe have several attributes in our dataset which tell us about the severity of these accidents.attributes like WEATHER, ROADCOND, LIGHTCOND, JUNCTIONTYPE \ncan tell us about the accidents which happen naturally.And attributes like SEVERITYDESC and COLLISIONTYPE help us decide how these accidents take place. \nOur predictor or target variable will be 'SEVERITYCODE' because it is used measure the severity of an accident from 0 to 5 within the dataset. \nData has multiple independent variables and 221,144 records, Independent variables: \u201cWEATHER\u201d, \u201cROADCOND\u201d and \u201cLIGHTCOND\u201d with Dependent variable/ target: \u201cSEVERITYCODE\u201d (0 to 4 levels)\n\n0 - Little to no Probability (Clear Weather Conditions)\n1 - Very Low Probability - Chance or Property Damage\n2 - Low Probability - Chance of Injury\n3 - Mild Probability - Chance of Serious Injury\n4 - High Probability - Chance of Fatality\n\n\n\n\n# Methodology Used:\n\nMost of the features in the dataset of this project are categorical. In this project Machine Learning Algorithm is used in car collissions and severity recognition.\n\n"
        },
        {
            "cell_type": "code",
            "execution_count": null,
            "metadata": {},
            "outputs": [],
            "source": ""
        }
    ],
    "metadata": {
        "kernelspec": {
            "display_name": "Python 3.6",
            "language": "python",
            "name": "python3"
        },
        "language_info": {
            "codemirror_mode": {
                "name": "ipython",
                "version": 3
            },
            "file_extension": ".py",
            "mimetype": "text/x-python",
            "name": "python",
            "nbconvert_exporter": "python",
            "pygments_lexer": "ipython3",
            "version": "3.6.9"
        }
    },
    "nbformat": 4,
    "nbformat_minor": 1
}